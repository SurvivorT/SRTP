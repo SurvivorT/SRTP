{
 "cells": [
  {
   "cell_type": "code",
   "execution_count": 2,
   "metadata": {},
   "outputs": [
    {
     "name": "stdout",
     "output_type": "stream",
     "text": [
      "(10, 16, 16)\n",
      "[[ 0  0 -1 -1 -1 -1  0  0  0  0  0  0  0  0  0  0]\n",
      " [ 0  0 -1 -1 -1 -1  0  0  0  0  0  0  0  0  0  0]\n",
      " [ 0  0  0  0  0  0  0  0  0  0  0  0  0  0  0  0]\n",
      " [ 0  0  0  0  0  0  0  0  0  0  0  0  0  0  0  0]\n",
      " [ 0  0  0  0  0  0  0 -1 -1  0  0  0  0  0  0  0]\n",
      " [ 0  0 -1 -1 -1 -1  0 -1 -1 -1 -1  0  0  0  0  0]\n",
      " [-1 -1 -1 -1 -1 -1  0  0  0 -1 -1  0  0  0  0  0]\n",
      " [-1 -1 -1 -1 -1 -1  0  0  0  0  0  0  0 -1 -1  0]\n",
      " [-1 -1 -1 -1 -1 -1  0  0  0  0  0  0  0 -1 -1  0]\n",
      " [-1 -1 -1 -1 -1  0  0  0  0  0  0  0  0  0  0  0]\n",
      " [ 0  0  0 -1 -1  0  0  0  0  0  0 -1 -1  0 -1 -1]\n",
      " [ 0  0  0  0  0  0  0  0  0  0  0 -1 -1  0 -1 -1]\n",
      " [ 0  0  0  0  0  0  0  0  0 -1 -1  0  0  0  0  0]\n",
      " [ 0 -1 -1 -1 -1 -1 -1  0  0 -1 -1  0  0  0  0  0]\n",
      " [ 0 -1 -1 -1 -1 -1 -1  0  0 -1 -1  0  0  0  0  0]\n",
      " [ 0  0  0 -1 -1 -1 -1  0  0  0  0  0  0  0  0  0]]\n",
      "[[ 0  0  0  0  0  0  0  0  0  0  0  0  0  0  0  0]\n",
      " [ 0  0  0  0  0  0  0  0  0  0 -1 -1  0  0  0  0]\n",
      " [ 0  0  0  0  0 -1 -1  0  0  0 -1 -1  0 -1 -1 -1]\n",
      " [ 0  0  0  0  0 -1 -1 -1  0  0  0  0  0 -1 -1 -1]\n",
      " [ 0  0  0  0  0 -1 -1 -1  0  0  0  0  0 -1 -1 -1]\n",
      " [ 0  0  0  0  0 -1 -1  0  0  0  0  0  0 -1 -1 -1]\n",
      " [ 0  0  0  0  0 -1 -1  0  0  0  0  0  0  0  0  0]\n",
      " [-1 -1  0  0  0  0  0  0  0  0  0  0 -1 -1  0  0]\n",
      " [-1 -1  0  0  0  0  0  0  0  0 -1 -1 -1 -1  0  0]\n",
      " [ 0  0  0  0  0  0  0  0  0  0 -1 -1  0  0  0  0]\n",
      " [ 0  0 -1 -1  0  0  0  0  0  0  0  0  0  0  0  0]\n",
      " [ 0  0 -1 -1 -1  0  0  0  0  0  0  0  0  0  0  0]\n",
      " [ 0  0 -1 -1 -1  0 -1 -1 -1 -1  0  0  0  0  0  0]\n",
      " [ 0  0 -1 -1  0  0 -1 -1 -1 -1  0  0  0 -1 -1  0]\n",
      " [ 0  0  0  0  0  0 -1 -1 -1 -1  0  0  0 -1 -1  0]\n",
      " [ 0  0  0  0  0  0 -1 -1 -1 -1  0  0  0  0  0  0]]\n"
     ]
    }
   ],
   "source": [
    "import numpy as np\n",
    "\n",
    "a = np.load('/home/wcy/MADRL/maps/map_pool16.npy')\n",
    "print(a.shape)\n",
    "print(a[0])\n",
    "print(a[1])"
   ]
  },
  {
   "cell_type": "code",
   "execution_count": null,
   "metadata": {},
   "outputs": [],
   "source": []
  },
  {
   "cell_type": "code",
   "execution_count": null,
   "metadata": {},
   "outputs": [],
   "source": []
  },
  {
   "cell_type": "code",
   "execution_count": 3,
   "metadata": {},
   "outputs": [
    {
     "name": "stdout",
     "output_type": "stream",
     "text": [
      "['10', '10']\n"
     ]
    }
   ],
   "source": [
    "b = map(int, '10,10'.split(','))\n",
    "print('10,10'.split(','))"
   ]
  },
  {
   "cell_type": "code",
   "execution_count": 9,
   "metadata": {},
   "outputs": [],
   "source": [
    "Map = np.zeros((2, 5, 5), dtype=np.int32);\n",
    "Map[0][2,2] = 2\n",
    "Map[1][2,2] = 2\n",
    "\n",
    "with open('maptest.npy', 'wb') as f:\n",
    "    np.save(f, Map)\n"
   ]
  },
  {
   "cell_type": "code",
   "execution_count": 10,
   "metadata": {},
   "outputs": [
    {
     "name": "stdout",
     "output_type": "stream",
     "text": [
      "[[[0 0 0 0 0]\n",
      "  [0 0 0 0 0]\n",
      "  [0 0 2 0 0]\n",
      "  [0 0 0 0 0]\n",
      "  [0 0 0 0 0]]\n",
      "\n",
      " [[0 0 0 0 0]\n",
      "  [0 0 0 0 0]\n",
      "  [0 0 2 0 0]\n",
      "  [0 0 0 0 0]\n",
      "  [0 0 0 0 0]]]\n",
      "(2, 5, 5)\n"
     ]
    }
   ],
   "source": [
    "a = np.load('./maptest.npy');\n",
    "print(a)\n",
    "print(a.shape)\n"
   ]
  }
 ],
 "metadata": {
  "kernelspec": {
   "display_name": "Python 3",
   "language": "python",
   "name": "python3"
  },
  "language_info": {
   "codemirror_mode": {
    "name": "ipython",
    "version": 3
   },
   "file_extension": ".py",
   "mimetype": "text/x-python",
   "name": "python",
   "nbconvert_exporter": "python",
   "pygments_lexer": "ipython3",
   "version": "3.7.6"
  },
  "widgets": {
   "state": {},
   "version": "1.1.2"
  }
 },
 "nbformat": 4,
 "nbformat_minor": 4
}
